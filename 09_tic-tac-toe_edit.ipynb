{
 "cells": [
  {
   "cell_type": "markdown",
   "id": "867aa3ba",
   "metadata": {},
   "source": [
    "# Tic-tac-toe s využitím algoritmu minimax"
   ]
  },
  {
   "cell_type": "code",
   "execution_count": 21,
   "id": "60f845d1",
   "metadata": {},
   "outputs": [],
   "source": [
    "import random"
   ]
  },
  {
   "cell_type": "markdown",
   "id": "a2a89821",
   "metadata": {},
   "source": [
    "### Pomocné funkce"
   ]
  },
  {
   "cell_type": "code",
   "execution_count": 22,
   "id": "17561ae1",
   "metadata": {},
   "outputs": [],
   "source": [
    "# kreslí hru\n",
    "def printgame(game):\n",
    "    for r in game: \n",
    "        pr = \"\"\n",
    "        for i in r:\n",
    "            if i == 0:\n",
    "                pr += \".\"\n",
    "            elif i == 1:\n",
    "                pr += \"x\"\n",
    "            else:\n",
    "                pr += \"o\"\n",
    "        print(pr)\n",
    "    print()  # Přidaný volný řádek mezi hracími poli pro lepší srozumitelnost        \n",
    "\n",
    "        \n",
    "# říká kdo vyhrál 0=nikdo, 1, 2        \n",
    "def whowon(g):\n",
    "    for p in [1, 2]:\n",
    "        if g[0][:] == [p, p, p] or g[1][:] == [p, p, p] or g[2][:] == [p, p, p]:\n",
    "            return p\n",
    "        if g[0][0] == g[1][0] == g[2][0] == p:\n",
    "            return p\n",
    "        if g[0][1] == g[1][1] == g[2][1] == p:\n",
    "            return p\n",
    "        if g[0][2] == g[1][2] == g[2][2] == p:\n",
    "            return p\n",
    "        if g[0][0] == g[1][1] == g[2][2] == p:\n",
    "            return p\n",
    "        if g[0][2] == g[1][1] == g[2][0] == p:\n",
    "            return p\n",
    "    return 0\n",
    "\n",
    "# vrací prázdná místa na šachovnici\n",
    "def emptyspots(g):\n",
    "    return [(i, j) for i in range(3) for j in range(3) if g[i][j] == 0]\n",
    "    "
   ]
  },
  {
   "cell_type": "markdown",
   "id": "f3f85e03",
   "metadata": {},
   "source": [
    "### Herní funkce\n",
    "Tah hráče s využitím algoritmu minimax. První tah na začátku hry (volba prvního políčka) je pro zpestření opakovaných her náhodný, výsledek to nijak neovlivní."
   ]
  },
  {
   "cell_type": "code",
   "execution_count": 23,
   "id": "2bf35bae-bc63-4261-81ec-5dbc30e2ce20",
   "metadata": {},
   "outputs": [],
   "source": [
    "def minimax(game, depth, maximizingPlayer, myplayer, otherplayer):\n",
    "    winner = whowon(game)\n",
    "    if winner == myplayer:\n",
    "        return 10 - depth, None\n",
    "    elif winner == otherplayer:\n",
    "        return depth - 10, None\n",
    "    elif not emptyspots(game):\n",
    "        return 0, None\n",
    "\n",
    "    if maximizingPlayer:\n",
    "        maxEval = -float('inf')\n",
    "        best_move = None\n",
    "        for (i, j) in emptyspots(game):\n",
    "            game[i][j] = myplayer\n",
    "            eval, _ = minimax(game, depth + 1, False, myplayer, otherplayer)\n",
    "            game[i][j] = 0\n",
    "            if eval > maxEval:\n",
    "                maxEval = eval\n",
    "                best_move = (i, j)\n",
    "        return maxEval, best_move\n",
    "    else:\n",
    "        minEval = float('inf')\n",
    "        best_move = None\n",
    "        for (i, j) in emptyspots(game):\n",
    "            game[i][j] = otherplayer\n",
    "            eval, _ = minimax(game, depth + 1, True, myplayer, otherplayer)\n",
    "            game[i][j] = 0\n",
    "            if eval < minEval:\n",
    "                minEval = eval\n",
    "                best_move = (i, j)\n",
    "        return minEval, best_move\n",
    "\n",
    "# tah hráče pomocí minimaxu s náhodným prvním tahem\n",
    "def ttt_move(game, myplayer, otherplayer):\n",
    "    if sum(row.count(0) for row in game) == 9:\n",
    "        move = random.choice(emptyspots(game))\n",
    "    else:\n",
    "        _, move = minimax(game, 0, True, myplayer, otherplayer)\n",
    "    if move:\n",
    "        game[move[0]][move[1]] = myplayer\n",
    "    return game\n"
   ]
  },
  {
   "cell_type": "markdown",
   "id": "28eb0522",
   "metadata": {},
   "source": [
    "### Hra PC vs PC\n",
    "Jedná se o dokonalou hru dvou hráčů končící po devíti kolech vždy remízou. Pro zpestření náhodně zahajují hráč č.1 (x) a hráč č.2 (o)."
   ]
  },
  {
   "cell_type": "code",
   "execution_count": 24,
   "id": "be5a5b4f-dbf5-42cd-bf86-9a7e4c16030d",
   "metadata": {},
   "outputs": [],
   "source": [
    "def play_game():\n",
    "    game = [[0]*3 for _ in range(3)]\n",
    "    myplayer = random.choice([1, 2])\n",
    "    otherplayer = 2 if myplayer == 1 else 1\n",
    "    print(f\"Hra zahájena. Začíná hráč č.{myplayer}.\\n\")\n",
    "\n",
    "    current_player = myplayer\n",
    "    turn_count = 0\n",
    "\n",
    "    while True:\n",
    "        if current_player == myplayer:\n",
    "            game = ttt_move(game, myplayer, otherplayer)\n",
    "        else:\n",
    "            game = ttt_move(game, otherplayer, myplayer)\n",
    "\n",
    "        turn_count += 1\n",
    "        printgame(game)\n",
    "\n",
    "        winner = whowon(game)\n",
    "        if winner != 0:\n",
    "            print(f\"Vyhrál hráč {winner}!\\n\")\n",
    "            print(f\"Celkový počet tahů: {turn_count}\\n\")\n",
    "            break\n",
    "        elif not emptyspots(game):\n",
    "            print(\"Remíza!\\n\")\n",
    "            print(f\"Celkový počet tahů: {turn_count}\\n\")\n",
    "            break\n",
    "\n",
    "        current_player = otherplayer if current_player == myplayer else myplayer"
   ]
  },
  {
   "cell_type": "markdown",
   "id": "e49ac2c6",
   "metadata": {},
   "source": [
    "### Spuštění hry\n",
    "Jednoduchý textový výpis hracího pole. Prázdná políčka jsou zastoupena tečkou."
   ]
  },
  {
   "cell_type": "code",
   "execution_count": 25,
   "id": "f90055b5",
   "metadata": {},
   "outputs": [
    {
     "name": "stdout",
     "output_type": "stream",
     "text": [
      "Hra zahájena. Začíná hráč č.1.\n",
      "\n",
      "...\n",
      "..x\n",
      "...\n",
      "\n",
      "..o\n",
      "..x\n",
      "...\n",
      "\n",
      "x.o\n",
      "..x\n",
      "...\n",
      "\n",
      "x.o\n",
      "o.x\n",
      "...\n",
      "\n",
      "xxo\n",
      "o.x\n",
      "...\n",
      "\n",
      "xxo\n",
      "oox\n",
      "...\n",
      "\n",
      "xxo\n",
      "oox\n",
      "x..\n",
      "\n",
      "xxo\n",
      "oox\n",
      "xo.\n",
      "\n",
      "xxo\n",
      "oox\n",
      "xox\n",
      "\n",
      "Remíza!\n",
      "\n",
      "Celkový počet tahů: 9\n",
      "\n"
     ]
    }
   ],
   "source": [
    "if __name__ == \"__main__\":\n",
    "    play_game()"
   ]
  },
  {
   "cell_type": "markdown",
   "id": "f96b9673",
   "metadata": {},
   "source": [
    "## Závěr\n",
    "U hry tic-tac-toe hrané pomocí algoritmu minimax, pokud oba hráči hrají dokonale, hra vždy skončí remízou po devíti kolech (v případě hracího pole 3×3). S ohledem na to, že všechny první tahy jsou z pohledu kvality rovnocenné (9 možností, 3 reálné strategie: roh, střed, okraj), pro zpestření je první tah volen náhodně. Minimax by volil z principu vždy první z hodnot vrácených funkcí *emptyspots()*, tj. levý horní roh. "
   ]
  },
  {
   "cell_type": "code",
   "execution_count": null,
   "id": "a05ecc88",
   "metadata": {},
   "outputs": [],
   "source": []
  }
 ],
 "metadata": {
  "kernelspec": {
   "display_name": ".venv",
   "language": "python",
   "name": ".venv"
  },
  "language_info": {
   "codemirror_mode": {
    "name": "ipython",
    "version": 3
   },
   "file_extension": ".py",
   "mimetype": "text/x-python",
   "name": "python",
   "nbconvert_exporter": "python",
   "pygments_lexer": "ipython3",
   "version": "3.13.1"
  }
 },
 "nbformat": 4,
 "nbformat_minor": 5
}
