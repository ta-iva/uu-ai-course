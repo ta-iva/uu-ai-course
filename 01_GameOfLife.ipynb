{
 "cells": [
  {
   "cell_type": "markdown",
   "id": "f0346357",
   "metadata": {},
   "source": [
    "## Game of Life (1D)\n",
    "Dle aktuálního zadání se jedná o jednorozměrnou variantu celulárního automatu, kdy ke změně stavu buněk dochází jen při generaci nového řádku. Tj. buňky na předchozích řádcích neumírají ani neožívají, zůstávají setrvale ve stavu stanoveném při vzniku řádku na základě daných pravidel a iniciace skrze první volitelný řádek (funkce step). Ovlivňující okolí v našem případě tvoří dvě buňky zleva a zprava."
   ]
  },
  {
   "cell_type": "markdown",
   "id": "cc9eea93",
   "metadata": {},
   "source": [
    "### Zdrojový kód - definice funkcí\n",
    "Definice základních funkcí *step* a *print_row*, které generují a vypisují řádky v cyklu podle jejich zvoleného počtu. Pomocná funkce *get_neighbors* zjišťuje stav sousedních buňek (dvě nalevo a napravo). Nový stav je vypočítáván znovu pro kažou buňku bez rozlišení jejího původního stavu, roli hraje jen okolí buňky."
   ]
  },
  {
   "cell_type": "code",
   "execution_count": 14,
   "id": "8812ba17",
   "metadata": {},
   "outputs": [],
   "source": [
    "# Zjištění počtu živých sousedních buněk\n",
    "def get_neighbors(row, index):\n",
    "    return [\n",
    "        row[i] if 0 <= i < len(row) else 0\n",
    "        for i in range(index - 2, index + 3) if i != index\n",
    "    ]\n",
    "\n",
    "# Výpočet dalšího řádku\n",
    "def step(row, rule):\n",
    "    return [rule(get_neighbors(row, i)) for i in range(len(row))]\n",
    "\n",
    "# Vykreslení řádku\n",
    "def print_row(row):\n",
    "    print(\"\".join(\"■\" if cell == 1 else \"□\" for cell in row))"
   ]
  },
  {
   "cell_type": "markdown",
   "id": "04588830",
   "metadata": {},
   "source": [
    "### Volitelné parametry\n",
    "Před cyklem s voláním funkcí *step* a *print_row* je možná úprava následujících parametrů: délka řádku, počet generací, počáteční stav (první řádek) a pravidlo určující přežití buňky s ohledem na její okolí."
   ]
  },
  {
   "cell_type": "markdown",
   "id": "6d576a6a",
   "metadata": {},
   "source": [
    "#### **Experiment č. 1**\n",
    "Počáteční generace: [1,1,0,0,0,1,0,1,0,1,0,0,0,1,0,1,0,0,1,1] <br/>Pravidlo: živá buňka vznikne, pokud je aslespoň jeden soused živý"
   ]
  },
  {
   "cell_type": "code",
   "execution_count": 15,
   "id": "284e3d00",
   "metadata": {},
   "outputs": [
    {
     "name": "stdout",
     "output_type": "stream",
     "text": [
      "  1. ■■□□□■□■□■□□□■□■□□■■\n",
      "  2. ■■■■■■■■■■■■■■■■■■■■\n",
      "  3. ■■■■■■■■■■■■■■■■■■■■\n",
      "  4. ■■■■■■■■■■■■■■■■■■■■\n",
      "  5. ■■■■■■■■■■■■■■■■■■■■\n",
      "  6. ■■■■■■■■■■■■■■■■■■■■\n",
      "  7. ■■■■■■■■■■■■■■■■■■■■\n",
      "  8. ■■■■■■■■■■■■■■■■■■■■\n",
      "  9. ■■■■■■■■■■■■■■■■■■■■\n",
      " 10. ■■■■■■■■■■■■■■■■■■■■\n",
      " 11. ■■■■■■■■■■■■■■■■■■■■\n",
      " 12. ■■■■■■■■■■■■■■■■■■■■\n",
      " 13. ■■■■■■■■■■■■■■■■■■■■\n",
      " 14. ■■■■■■■■■■■■■■■■■■■■\n",
      " 15. ■■■■■■■■■■■■■■■■■■■■\n",
      " 16. ■■■■■■■■■■■■■■■■■■■■\n",
      " 17. ■■■■■■■■■■■■■■■■■■■■\n",
      " 18. ■■■■■■■■■■■■■■■■■■■■\n",
      " 19. ■■■■■■■■■■■■■■■■■■■■\n",
      " 20. ■■■■■■■■■■■■■■■■■■■■\n"
     ]
    }
   ],
   "source": [
    "# Volitelné parametry\n",
    "row_length = 20\n",
    "generations = 20\n",
    "initial_row = [1,1,0,0,0,1,0,1,0,1,0,0,0,1,0,1,0,0,1,1]\n",
    "\n",
    "# Definice pravidla\n",
    "def rule(neighbors):\n",
    "    return 1 if any(neighbors) else 0  # živá buňka vznikne, pokud je aslespoň jeden soused živý\n",
    "\n",
    "# Spuštění vývoje generací po řádcích\n",
    "current_row = initial_row[:row_length]\n",
    "for i in range(generations):\n",
    "    print(f\"{i+1:>3}\", end=\". \")\n",
    "    print_row(current_row)\n",
    "    current_row = step(current_row, rule)"
   ]
  },
  {
   "cell_type": "markdown",
   "id": "db925db5",
   "metadata": {},
   "source": [
    "**Komentář:** <br/>Příliš obecné pravidlo, při méně živých buňek v počáteční generaci populace živých buňek rychle zaplní celý řádek, viz příklad níže s následnou podobou prvního řádku: [1,0,0,0,0,1,0,0,0,0,0,0,0,0,0,0,0,0,1,1])"
   ]
  },
  {
   "cell_type": "code",
   "execution_count": 16,
   "id": "5089fdad",
   "metadata": {},
   "outputs": [
    {
     "name": "stdout",
     "output_type": "stream",
     "text": [
      "  1. ■□□□□■□□□□□□□□□□□□■■\n",
      "  2. □■■■■□■■□□□□□□□□■■■■\n",
      "  3. ■■■■■■■■■■□□□□■■■■■■\n",
      "  4. ■■■■■■■■■■■■■■■■■■■■\n",
      "  5. ■■■■■■■■■■■■■■■■■■■■\n",
      "  6. ■■■■■■■■■■■■■■■■■■■■\n",
      "  7. ■■■■■■■■■■■■■■■■■■■■\n",
      "  8. ■■■■■■■■■■■■■■■■■■■■\n",
      "  9. ■■■■■■■■■■■■■■■■■■■■\n",
      " 10. ■■■■■■■■■■■■■■■■■■■■\n",
      " 11. ■■■■■■■■■■■■■■■■■■■■\n",
      " 12. ■■■■■■■■■■■■■■■■■■■■\n",
      " 13. ■■■■■■■■■■■■■■■■■■■■\n",
      " 14. ■■■■■■■■■■■■■■■■■■■■\n",
      " 15. ■■■■■■■■■■■■■■■■■■■■\n",
      " 16. ■■■■■■■■■■■■■■■■■■■■\n",
      " 17. ■■■■■■■■■■■■■■■■■■■■\n",
      " 18. ■■■■■■■■■■■■■■■■■■■■\n",
      " 19. ■■■■■■■■■■■■■■■■■■■■\n",
      " 20. ■■■■■■■■■■■■■■■■■■■■\n"
     ]
    }
   ],
   "source": [
    "# Volitelné parametry\n",
    "row_length = 20\n",
    "generations = 20\n",
    "initial_row = [1,0,0,0,0,1,0,0,0,0,0,0,0,0,0,0,0,0,1,1]\n",
    "\n",
    "# Definice pravidla\n",
    "def rule(neighbors):\n",
    "    return 1 if any(neighbors) else 0  # živá buňka vznikne, pokud je aslespoň jeden soused živý\n",
    "\n",
    "# Spuštění vývoje generací po řádcích\n",
    "current_row = initial_row[:row_length]\n",
    "for i in range(generations):\n",
    "    print(f\"{i+1:>3}\", end=\". \")\n",
    "    print_row(current_row)\n",
    "    current_row = step(current_row, rule)"
   ]
  },
  {
   "cell_type": "markdown",
   "id": "8586f4cb",
   "metadata": {},
   "source": [
    "#### **Experiment č. 2**\n",
    "Počáteční generace (totožná jako v exp. č. 1): [1,1,0,0,0,1,0,1,0,1,0,0,0,1,0,1,0,0,1,1] <br/>Pravidlo: živá buňka vznikne, pokud jsou přesně dva sousedé živí"
   ]
  },
  {
   "cell_type": "code",
   "execution_count": 17,
   "id": "3bb425c1",
   "metadata": {},
   "outputs": [
    {
     "name": "stdout",
     "output_type": "stream",
     "text": [
      "  1. ■■□□□■□■□■□□□■□■□□■■\n",
      "  2. □□■■□□■■■□□■□□■□■□□□\n",
      "  3. □■□□□□■■■□■□■■□■□□□□\n",
      "  4. □□□□□■■■□□■□■■□□□□□□\n",
      "  5. □□□□■■■■□■□□■□■□□□□□\n",
      "  6. □□□■■□□□□□■■□■□□□□□□\n",
      "  7. □□■□□■□□□■□■□□□□□□□□\n",
      "  8. □□□■■□□■□□■□□□□□□□□□\n",
      "  9. □□■□□□■□■■□□□□□□□□□□\n",
      " 10. □□□□■□□□■□■□□□□□□□□□\n",
      " 11. □□□□□□■□□■□□□□□□□□□□\n",
      " 12. □□□□□□□■■□□□□□□□□□□□\n",
      " 13. □□□□□□■□□■□□□□□□□□□□\n",
      " 14. □□□□□□□■■□□□□□□□□□□□\n",
      " 15. □□□□□□■□□■□□□□□□□□□□\n",
      " 16. □□□□□□□■■□□□□□□□□□□□\n",
      " 17. □□□□□□■□□■□□□□□□□□□□\n",
      " 18. □□□□□□□■■□□□□□□□□□□□\n",
      " 19. □□□□□□■□□■□□□□□□□□□□\n",
      " 20. □□□□□□□■■□□□□□□□□□□□\n"
     ]
    }
   ],
   "source": [
    "# Volitelné parametry\n",
    "row_length = 20\n",
    "generations = 20\n",
    "initial_row = [1,1,0,0,0,1,0,1,0,1,0,0,0,1,0,1,0,0,1,1]\n",
    "\n",
    "# Definice pravidla\n",
    "def rule(neighbors):\n",
    "    return 1 if neighbors.count(1) == 2 else 0  # živá buňka vznikne, pokud jsou přesně dva sousedé živí\n",
    "\n",
    "# Spuštění vývoje generací po řádcích\n",
    "current_row = initial_row[:row_length]\n",
    "for i in range(generations):\n",
    "    print(f\"{i+1:>3}\", end=\". \")\n",
    "    print_row(current_row)\n",
    "    current_row = step(current_row, rule)"
   ]
  },
  {
   "cell_type": "markdown",
   "id": "28599c3c",
   "metadata": {},
   "source": [
    "**Komentář:** <br/>Při dostatačně velkém opakování (n > 10) se populace ustálí na oscilujícím vzoru s periodou 2."
   ]
  },
  {
   "cell_type": "markdown",
   "id": "a5d6be80",
   "metadata": {},
   "source": [
    "#### **Experiment č. 3**\n",
    "Počáteční generace (totožná jako v exp. č. 1 a 2): [1,1,0,0,0,1,0,1,0,1,0,0,0,1,0,1,0,0,1,1] <br/>Pravidlo rozšíříme o novou podmínku na dvě: živá buňka vznikne, pokud jsou přesně dva sousedé živí, NEBO pokud jsou čtyři sousedé mrtví"
   ]
  },
  {
   "cell_type": "code",
   "execution_count": 21,
   "id": "95cf0404",
   "metadata": {},
   "outputs": [
    {
     "name": "stdout",
     "output_type": "stream",
     "text": [
      "  1. ■■□□□■□■□■□□□■□■□□■■\n",
      "  2. □□■■□□■■■□□■□□■□■□□□\n",
      "  3. □■□□□□■■■□■■■■□■□□□■\n",
      "  4. □■□□□■■■□□□□□□□□□■□■\n",
      "  5. □■□■■■■■■□■■■■■□□□■□\n",
      "  6. □□□□□□□□□□□□□□■■■□■□\n",
      "  7. ■■■■■■■■■■■■□■■■□□□□\n",
      "  8. ■□□□□□□□□□□□□□■■■□■■\n",
      "  9. ■□□■■■■■■■■■□■■■□□■□\n",
      " 10. ■■□■□□□□□□□□□□■■□■■□\n",
      " 11. □■□□□□■■■■■■□■□■□■□■\n",
      " 12. □■□□□■■□□□□□□■■■■■■□\n",
      " 13. □■□■■□□■□■■□■■□□□□■■\n",
      " 14. □□□■□□■□□■■□■□■□□■□□\n",
      " 15. ■□□■■■■■□□■□■■□■■■□□\n",
      " 16. ■■□■□□□■□■□□■■□□■■■□\n",
      " 17. □■□□□■□□■□■□□□□□■■■■\n",
      " 18. □■□■□■■■□■□□□■□■■□□■\n",
      " 19. □□■■□□■□□□□■□□□■□□■■\n",
      " 20. □■□□□■■□□□□■□■□■■□□□\n"
     ]
    }
   ],
   "source": [
    "# Volitelné parametry\n",
    "row_length = 20\n",
    "generations = 20\n",
    "initial_row = [1,1,0,0,0,1,0,1,0,1,0,0,0,1,0,1,0,0,1,1]\n",
    "\n",
    "# Definice pravidla\n",
    "def rule(neighbors):\n",
    "    return 1 if neighbors.count(1) == 2 or neighbors.count(0) == 4 else 0  # živá buňka vznikne, pokud jsou přesně dva sousedé živí, nebo čtyři sousedé mrtví\n",
    "\n",
    "# Spuštění vývoje generací po řádcích\n",
    "current_row = initial_row[:row_length]\n",
    "for i in range(generations):\n",
    "    print(f\"{i+1:>3}\", end=\". \")\n",
    "    print_row(current_row)\n",
    "    current_row = step(current_row, rule)"
   ]
  },
  {
   "cell_type": "markdown",
   "id": "fa7112ef",
   "metadata": {},
   "source": [
    "**Komentář:** <br/>Při aplikaci dvou pravidel s totožnou iniciační generací dojde k rozbití předchozí oscilace a žádný trvalý ani periodický vzor zobrazený náhled dvaceti opakování nenabízí. Můžeme vyzkoušet zkrátit délku řádku, resp. počet buněk v první generaci, což stabilizaci napomůže. Viz náhled níže, kde se po zkrácení řádku na osm buněk objevila perioda oscilujícího vzoru o hodnotě 6."
   ]
  },
  {
   "cell_type": "code",
   "execution_count": 22,
   "id": "0ee23c82",
   "metadata": {},
   "outputs": [
    {
     "name": "stdout",
     "output_type": "stream",
     "text": [
      "  1. ■■□□□■□■\n",
      "  2. □□■■□□■□\n",
      "  3. □■□□□■■□\n",
      "  4. □■□■■□□■\n",
      "  5. □□□■□□■■\n",
      "  6. ■□□■■□□□\n",
      "  7. ■■□□□■□■\n",
      "  8. □□■■□□■□\n",
      "  9. □■□□□■■□\n",
      " 10. □■□■■□□■\n",
      " 11. □□□■□□■■\n",
      " 12. ■□□■■□□□\n",
      " 13. ■■□□□■□■\n",
      " 14. □□■■□□■□\n",
      " 15. □■□□□■■□\n",
      " 16. □■□■■□□■\n",
      " 17. □□□■□□■■\n",
      " 18. ■□□■■□□□\n",
      " 19. ■■□□□■□■\n",
      " 20. □□■■□□■□\n"
     ]
    }
   ],
   "source": [
    "# Volitelné parametry\n",
    "row_length = 8\n",
    "generations = 20\n",
    "initial_row = [1,1,0,0,0,1,0,1,0,1,0,0,0,1,0,1,0,0,1,1]\n",
    "\n",
    "# Definice pravidla\n",
    "def rule(neighbors):\n",
    "    return 1 if neighbors.count(1) == 2 or neighbors.count(0) == 4 else 0  # živá buňka vznikne, pokud jsou přesně dva sousedé živí, nebo čtyři sousedé mrtví\n",
    "\n",
    "# Spuštění vývoje generací po řádcích\n",
    "current_row = initial_row[:row_length]\n",
    "for i in range(generations):\n",
    "    print(f\"{i+1:>3}\", end=\". \")\n",
    "    print_row(current_row)\n",
    "    current_row = step(current_row, rule)"
   ]
  },
  {
   "cell_type": "markdown",
   "id": "d237d208",
   "metadata": {},
   "source": [
    "### Shrnutí\n",
    "Lze předpokládat, že u jednodušších pravidel je vyšší šance na stabilizaci opakujícího se vzoru či periody. Napomoci by tomu mohlo i zkrácení délky řádku (počtu buněk v něm). Stavový prostor je konečný, perioda se tedy vyskytuje vždy, jen je různě dlouhá."
   ]
  },
  {
   "cell_type": "markdown",
   "id": "c4ec4ccc",
   "metadata": {},
   "source": [
    "### Rozšířená varianta\n",
    "Jako další krok pro úpravu algoritmu výpočtu řádku by bylo možné zohlednit kromě počtu živých buňek v okolí také aktuální stav buňky a podle toho specifikovat pravidla. Případně vyzkoušet aplikaci stranově symetrického pravidla. Určitě by také bylo do budoucna zajímavé rozšířit 1D variantu na standardní 2D mřížku s dvourozměrným okolím buňky a pestřejší množinou pravidel."
   ]
  }
 ],
 "metadata": {
  "kernelspec": {
   "display_name": "Python 3",
   "language": "python",
   "name": "python3"
  },
  "language_info": {
   "codemirror_mode": {
    "name": "ipython",
    "version": 3
   },
   "file_extension": ".py",
   "mimetype": "text/x-python",
   "name": "python",
   "nbconvert_exporter": "python",
   "pygments_lexer": "ipython3",
   "version": "3.12.0"
  }
 },
 "nbformat": 4,
 "nbformat_minor": 5
}
