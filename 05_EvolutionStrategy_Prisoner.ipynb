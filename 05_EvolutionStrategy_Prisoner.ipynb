{
 "cells": [
  {
   "cell_type": "markdown",
   "id": "d1920df0",
   "metadata": {},
   "source": [
    "## Evoluční generování strategie pro iterované vězňovo dilema"
   ]
  },
  {
   "cell_type": "markdown",
   "id": "8c2876e8",
   "metadata": {},
   "source": [
    "Pro jednoduchost budeme zatím uvažovat, že agent bere v úvahu jen poslední tah obou hráčů, tj. má omezenou historii interakcí."
   ]
  },
  {
   "cell_type": "code",
   "execution_count": 8,
   "id": "5a10936b",
   "metadata": {},
   "outputs": [],
   "source": [
    "import random\n",
    "from deap import base, creator, tools, algorithms"
   ]
  },
  {
   "cell_type": "markdown",
   "id": "d3a31674",
   "metadata": {},
   "source": [
    "Kódování vstupu/výstupu:\n",
    "- 0 reprezentuje \"spolupráci\"\n",
    "- 1 reprezentuje \"zradu\"\n",
    "\n",
    "Tabulku můžeme reprezentovat jako pole 4 hodnot (0 nebo 1). Index v poli odpovídá kombinaci vstupů:\n",
    "- Index 0: (0, 0) - Já spolupracuji, protihráč spolupracuje\n",
    "- Index 1: (0, 1) - Já spolupracuji, protihráč zrazuje\n",
    "- Index 2: (1, 0) - Já zrazuji, protihráč spolupracuje\n",
    "- Index 3: (1, 1) - Já zrazuji, protihráč zrazuje"
   ]
  },
  {
   "cell_type": "code",
   "execution_count": 9,
   "id": "b31dcb8f",
   "metadata": {},
   "outputs": [],
   "source": [
    "# 1. Kódování tabulky a funkce zrada\n",
    "def zrada(moje_historie, protihracova_historie, genom):\n",
    "    \"\"\"\n",
    "    Vrátí další tah (0 nebo 1) na základě historie a genomu.\n",
    "\n",
    "    Args:\n",
    "        moje_historie: List mých předchozích tahů.\n",
    "        protihracova_historie: List tahů protihráče.\n",
    "        genom: Genom strategie (list 4 prvků 0/1).\n",
    "\n",
    "    Returns:\n",
    "        0 (spolupráce) nebo 1 (zrada).\n",
    "    \"\"\"\n",
    "\n",
    "    if not moje_historie:\n",
    "        return 0  # První tah - defaultně spolupracuj\n",
    "\n",
    "    posledni_muj_tah = moje_historie[-1]\n",
    "    posledni_protihracuv_tah = protihracova_historie[-1]\n",
    "    index = posledni_muj_tah * 2 + posledni_protihracuv_tah  # Vypočítáme index do tabulky\n",
    "    return genom[index]\n"
   ]
  },
  {
   "cell_type": "markdown",
   "id": "a790c124",
   "metadata": {},
   "source": [
    "Simulace hry proti několika různým strategiím (např. vždy spolupracuj, vždy zraď, náhodná strategie, oko za oko). Fitness jedince (genomu) bude celkový zisk bodů ve všech těchto hrách. Vyšší zisk = vyšší fitness."
   ]
  },
  {
   "cell_type": "code",
   "execution_count": 10,
   "id": "e5fd8275",
   "metadata": {},
   "outputs": [],
   "source": [
    "\n",
    "# 2. Evoluční algoritmus\n",
    "def evaluate(individual):\n",
    "    \"\"\"\n",
    "    Fitness funkce - simuluje hru proti různým strategiím a vrací skóre.\n",
    "    \"\"\"\n",
    "\n",
    "    celkove_skore = 0\n",
    "\n",
    "    # Definice protihráčů\n",
    "    protihraci = {\n",
    "        \"vždy_spolupracuj\": [0] * 20,\n",
    "        \"vždy_zraď\": [1] * 20,\n",
    "        \"nahodny\": [random.randint(0, 1) for _ in range(20)],\n",
    "        \"oko_za_oko\": []  # Bude dopočítáno\n",
    "    }\n",
    "\n",
    "    # Simulace her\n",
    "    for strategie, tahy_protihrace in protihraci.items():\n",
    "        moje_tahy = []\n",
    "        if strategie == \"oko_za_oko\":\n",
    "          tahy_protihrace = [0] # Začíná spoluprací\n",
    "        \n",
    "        for kolo in range(len(tahy_protihrace)):\n",
    "            muj_tah = zrada(moje_tahy, tahy_protihrace, individual)\n",
    "            moje_tahy.append(muj_tah)\n",
    "\n",
    "            if strategie == \"oko_za_oko\":\n",
    "              if moje_tahy:\n",
    "                tah_protihrace = tahy_protihrace[-1] # Opakuje poslední můj tah\n",
    "              else:\n",
    "                tah_protihrace = 0 # Začíná spoluprací\n",
    "              tahy_protihrace.append(tah_protihrace)\n",
    "\n",
    "        # Výpočet skóre (příklad)\n",
    "        for i in range(len(moje_tahy)):\n",
    "            if moje_tahy[i] == 0 and tahy_protihrace[i] == 0:\n",
    "                celkove_skore += 3  # Odměna za spolupráci\n",
    "            elif moje_tahy[i] == 0 and tahy_protihrace[i] == 1:\n",
    "                celkove_skore += 0  # Jsem pako\n",
    "            elif moje_tahy[i] == 1 and tahy_protihrace[i] == 0:\n",
    "                celkove_skore += 5  # Jsem zrádce\n",
    "            else:\n",
    "                celkove_skore += 1  # Oba zrazujeme\n",
    "\n",
    "    return (celkove_skore,)"
   ]
  },
  {
   "cell_type": "markdown",
   "id": "fff2de4c",
   "metadata": {},
   "source": [
    "Nastavení DEAP: definice fitness (maximalizace), definice jedince (genom = list 4 bitů)"
   ]
  },
  {
   "cell_type": "code",
   "execution_count": 11,
   "id": "441d3a23",
   "metadata": {},
   "outputs": [],
   "source": [
    "# DEAP setup\n",
    "creator.create(\"FitnessMax\", base.Fitness, weights=(1.0,))\n",
    "creator.create(\"Individual\", list, fitness=creator.FitnessMax)\n",
    "\n",
    "toolbox = base.Toolbox()\n",
    "toolbox.register(\"attr_bool\", random.randint, 0, 1)\n",
    "toolbox.register(\"individual\", tools.initRepeat, creator.Individual, toolbox.attr_bool, n=4)\n",
    "toolbox.register(\"population\", tools.initRepeat, list, toolbox.individual)\n",
    "\n",
    "toolbox.register(\"evaluate\", evaluate)\n",
    "toolbox.register(\"mate\", tools.cxTwoPoint)\n",
    "toolbox.register(\"mutate\", tools.mutFlipBit, indpb=0.1)\n",
    "toolbox.register(\"select\", tools.selTournament, tournsize=3)"
   ]
  },
  {
   "cell_type": "markdown",
   "id": "e13af002",
   "metadata": {},
   "source": [
    "Spuštění evolučního algoritmu a výpis nejlepší strategie:"
   ]
  },
  {
   "cell_type": "code",
   "execution_count": 12,
   "id": "42ce9f42",
   "metadata": {},
   "outputs": [
    {
     "name": "stdout",
     "output_type": "stream",
     "text": [
      "gen\tnevals\tavg  \tmax\n",
      "0  \t100   \t12672\t191\n",
      "1  \t55    \t14443\t191\n",
      "2  \t65    \t16218\t191\n",
      "3  \t50    \t17345\t202\n",
      "4  \t61    \t17610\t202\n",
      "5  \t77    \t17704\t202\n",
      "6  \t50    \t17851\t198\n",
      "7  \t67    \t18052\t198\n",
      "8  \t66    \t17974\t203\n",
      "9  \t56    \t18135\t202\n",
      "10 \t63    \t18241\t199\n",
      "11 \t57    \t18092\t206\n",
      "12 \t69    \t18335\t199\n",
      "13 \t61    \t17967\t198\n",
      "14 \t60    \t17978\t202\n",
      "15 \t58    \t18183\t199\n",
      "16 \t55    \t18349\t198\n",
      "17 \t76    \t18055\t198\n",
      "18 \t56    \t18184\t202\n",
      "19 \t67    \t17985\t198\n",
      "20 \t59    \t18127\t198\n",
      "21 \t68    \t17891\t206\n",
      "22 \t57    \t18229\t206\n",
      "23 \t56    \t17972\t206\n",
      "24 \t60    \t18041\t206\n",
      "25 \t71    \t17903\t206\n",
      "26 \t58    \t18165\t206\n",
      "27 \t51    \t18352\t206\n",
      "28 \t62    \t18272\t206\n",
      "29 \t63    \t18316\t206\n",
      "30 \t65    \t18239\t206\n",
      "Nejlepší strategie (genom): [1, 1, 1, 1]\n"
     ]
    }
   ],
   "source": [
    "if __name__ == '__main__':\n",
    "    pop = toolbox.population(n=100)\n",
    "    hof = tools.HallOfFame(1)\n",
    "    stats = tools.Statistics(lambda ind: ind.fitness.values[0])\n",
    "    stats.register(\"avg\", sum)\n",
    "    stats.register(\"max\", max)\n",
    "\n",
    "    pop, log = algorithms.eaSimple(pop, toolbox, cxpb=0.5, mutpb=0.2, ngen=30, stats=stats, halloffame=hof, verbose=True)\n",
    "\n",
    "    # Nejlepší strategie\n",
    "    best_strategie = hof[0]\n",
    "    print(\"Nejlepší strategie (genom):\", best_strategie)"
   ]
  },
  {
   "cell_type": "markdown",
   "id": "71b163bd",
   "metadata": {},
   "source": [
    "Ukázka použití funkce zrada:"
   ]
  },
  {
   "cell_type": "code",
   "execution_count": 13,
   "id": "5d7056d5",
   "metadata": {},
   "outputs": [
    {
     "name": "stdout",
     "output_type": "stream",
     "text": [
      "Můj tah: 0, Tah protihráče: 1\n",
      "Můj tah: 1, Tah protihráče: 1\n",
      "Můj tah: 1, Tah protihráče: 0\n",
      "Můj tah: 1, Tah protihráče: 0\n",
      "Můj tah: 1, Tah protihráče: 1\n",
      "Můj tah: 1, Tah protihráče: 0\n",
      "Můj tah: 1, Tah protihráče: 1\n",
      "Můj tah: 1, Tah protihráče: 1\n",
      "Můj tah: 1, Tah protihráče: 1\n",
      "Můj tah: 1, Tah protihráče: 0\n"
     ]
    }
   ],
   "source": [
    "moje_historie = []\n",
    "protihracova_historie = []\n",
    "for _ in range(10):\n",
    "    muj_tah = zrada(moje_historie, protihracova_historie, best_strategie)\n",
    "    protihracuv_tah = random.randint(0, 1)  # Náhodný protihráč (pro ukázku)\n",
    "    moje_historie.append(muj_tah)\n",
    "    protihracova_historie.append(protihracuv_tah)\n",
    "    print(f\"Můj tah: {muj_tah}, Tah protihráče: {protihracuv_tah}\")"
   ]
  },
  {
   "cell_type": "markdown",
   "id": "46aafcfa",
   "metadata": {},
   "source": [
    "#### Závěr\n",
    "Jedná se o jednoduchou základní implementaci, vhodné by bylo použití sofistikovanějších protihráčů, příp. i delší historie tahů. Stejně tak je pro vývoj strategií klíčová matice výpočtu odměn (skóre). Pochopitelně i nastavení parametrů evolučního algoritmu."
   ]
  }
 ],
 "metadata": {
  "kernelspec": {
   "display_name": ".venv",
   "language": "python",
   "name": ".venv"
  },
  "language_info": {
   "codemirror_mode": {
    "name": "ipython",
    "version": 3
   },
   "file_extension": ".py",
   "mimetype": "text/x-python",
   "name": "python",
   "nbconvert_exporter": "python",
   "pygments_lexer": "ipython3",
   "version": "3.13.1"
  }
 },
 "nbformat": 4,
 "nbformat_minor": 5
}
